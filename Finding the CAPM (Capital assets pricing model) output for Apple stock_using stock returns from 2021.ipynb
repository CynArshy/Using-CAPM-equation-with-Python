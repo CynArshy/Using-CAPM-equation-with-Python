{
 "cells": [
  {
   "cell_type": "markdown",
   "id": "d7336c78",
   "metadata": {},
   "source": [
    "# CAPM output for Apple stock"
   ]
  },
  {
   "cell_type": "markdown",
   "id": "64bf11da",
   "metadata": {},
   "source": [
    "I’ve been asked to find the CAPM output for Apple stock using stock returns from 2021. I inserted some data into the CAPM equation because I’ve been told the following:\n",
    "\n",
    "Apple trades in the United States.\n",
    "The current yield of a US Treasury bond for 10 years is 1.72%.\n",
    "The average excess annual return for US stocks on the Standard & Poor’s (S&P) 500 is 10.5%.\n",
    "However, you’re not given the beta (beta_i) value. We’ll use Python to calculate this, and we can plug beta_i into the CAPM equation afterwards and see what the return on Apple stock might be. "
   ]
  },
  {
   "cell_type": "markdown",
   "id": "6fb4af8b",
   "metadata": {},
   "source": [
    "For the worked example, I’ll follow these steps:\n",
    "\n",
    "- Import the packages, set the dates, and then get the required data.\n",
    "- Check the relationships between the key variables, and calculate the relevant cumulative returns.\n",
    "- Draw the trend line.\n",
    "- Perform a linear regression analysis.\n",
    "- Find the return value (i.e. the expected value).\n",
    "- Draw the line of best fit."
   ]
  },
  {
   "cell_type": "code",
   "execution_count": null,
   "id": "c4889f4c",
   "metadata": {},
   "outputs": [],
   "source": [
    "# Import packages for ‘CAPM output for Apple stock’ example:\n",
    "import statsmodels.api as sm \n",
    "import numpy as np\n",
    "import pandas as pd\n",
    "import sklearn\n",
    "from sklearn.linear_model import LinearRegression\n",
    "import matplotlib.pyplot as plt\n",
    "import datetime\n",
    "import time"
   ]
  },
  {
   "cell_type": "code",
   "execution_count": 2,
   "id": "20d6965e",
   "metadata": {
    "scrolled": true
   },
   "outputs": [
    {
     "name": "stdout",
     "output_type": "stream",
     "text": [
      "Collecting pandas-datareader\n",
      "  Downloading pandas_datareader-0.10.0-py3-none-any.whl (109 kB)\n",
      "Requirement already satisfied: pandas>=0.23 in c:\\users\\cynthia\\anaconda3\\lib\\site-packages (from pandas-datareader) (1.3.4)\n",
      "Requirement already satisfied: requests>=2.19.0 in c:\\users\\cynthia\\anaconda3\\lib\\site-packages (from pandas-datareader) (2.26.0)\n",
      "Requirement already satisfied: lxml in c:\\users\\cynthia\\anaconda3\\lib\\site-packages (from pandas-datareader) (4.6.3)\n",
      "Requirement already satisfied: python-dateutil>=2.7.3 in c:\\users\\cynthia\\anaconda3\\lib\\site-packages (from pandas>=0.23->pandas-datareader) (2.8.2)\n",
      "Requirement already satisfied: pytz>=2017.3 in c:\\users\\cynthia\\anaconda3\\lib\\site-packages (from pandas>=0.23->pandas-datareader) (2021.3)\n",
      "Requirement already satisfied: numpy>=1.17.3 in c:\\users\\cynthia\\anaconda3\\lib\\site-packages (from pandas>=0.23->pandas-datareader) (1.20.3)\n",
      "Requirement already satisfied: six>=1.5 in c:\\users\\cynthia\\anaconda3\\lib\\site-packages (from python-dateutil>=2.7.3->pandas>=0.23->pandas-datareader) (1.16.0)\n",
      "Requirement already satisfied: charset-normalizer~=2.0.0 in c:\\users\\cynthia\\anaconda3\\lib\\site-packages (from requests>=2.19.0->pandas-datareader) (2.0.4)\n",
      "Requirement already satisfied: idna<4,>=2.5 in c:\\users\\cynthia\\anaconda3\\lib\\site-packages (from requests>=2.19.0->pandas-datareader) (3.2)\n",
      "Requirement already satisfied: certifi>=2017.4.17 in c:\\users\\cynthia\\anaconda3\\lib\\site-packages (from requests>=2.19.0->pandas-datareader) (2021.10.8)\n",
      "Requirement already satisfied: urllib3<1.27,>=1.21.1 in c:\\users\\cynthia\\anaconda3\\lib\\site-packages (from requests>=2.19.0->pandas-datareader) (1.26.7)\n",
      "Installing collected packages: pandas-datareader\n",
      "Successfully installed pandas-datareader-0.10.0\n"
     ]
    }
   ],
   "source": [
    "# [1] Install Pandas ‘DataReader’. \n",
    "!pip install pandas-datareader \n",
    "\n",
    "# [2] Import data from the web from ‘pandas_datareader’. \n",
    "from pandas_datareader import data as web "
   ]
  },
  {
   "cell_type": "markdown",
   "id": "9590760f",
   "metadata": {},
   "source": [
    "Working with stocks often means you need up-to-date data, so we’ll use Pandas Datareader to grab some data from Yahoo! Finance and then read it as a DataFrame. \n",
    "\n",
    "To add Pandas Datareader to our workspace:\n",
    "\n",
    "Install pandas-datareader using the pip install command.\n",
    "Import data from the web from pandas_datareader. (This allows us to create a Pandas DataFrame object by using various data sources from the internet.)"
   ]
  },
  {
   "cell_type": "code",
   "execution_count": 3,
   "id": "ce19593d",
   "metadata": {},
   "outputs": [],
   "source": [
    "# [1] Set the start date.\n",
    "start = datetime.datetime(2021,1,1)\n",
    "\n",
    "# [2] Set the end date.  \n",
    "end = datetime.datetime(2022,1,1)  "
   ]
  },
  {
   "cell_type": "markdown",
   "id": "598d2fb0",
   "metadata": {},
   "source": [
    "The average excess annual return for US stocks on the S&P 500, which is 10.5%. \n",
    "\n",
    "To access the S&P data, I used the pandas-datareader with 'SPY' (which tracks the S&P 500 index) and 'yahoo' (to pull the data from Yahoo! Finance) in conjunction with the start and end dates."
   ]
  },
  {
   "cell_type": "code",
   "execution_count": 4,
   "id": "b8f684e0",
   "metadata": {},
   "outputs": [
    {
     "data": {
      "text/html": [
       "<div>\n",
       "<style scoped>\n",
       "    .dataframe tbody tr th:only-of-type {\n",
       "        vertical-align: middle;\n",
       "    }\n",
       "\n",
       "    .dataframe tbody tr th {\n",
       "        vertical-align: top;\n",
       "    }\n",
       "\n",
       "    .dataframe thead th {\n",
       "        text-align: right;\n",
       "    }\n",
       "</style>\n",
       "<table border=\"1\" class=\"dataframe\">\n",
       "  <thead>\n",
       "    <tr style=\"text-align: right;\">\n",
       "      <th></th>\n",
       "      <th>High</th>\n",
       "      <th>Low</th>\n",
       "      <th>Open</th>\n",
       "      <th>Close</th>\n",
       "      <th>Volume</th>\n",
       "      <th>Adj Close</th>\n",
       "    </tr>\n",
       "    <tr>\n",
       "      <th>Date</th>\n",
       "      <th></th>\n",
       "      <th></th>\n",
       "      <th></th>\n",
       "      <th></th>\n",
       "      <th></th>\n",
       "      <th></th>\n",
       "    </tr>\n",
       "  </thead>\n",
       "  <tbody>\n",
       "    <tr>\n",
       "      <th>2021-01-04</th>\n",
       "      <td>375.450012</td>\n",
       "      <td>364.820007</td>\n",
       "      <td>375.309998</td>\n",
       "      <td>368.790009</td>\n",
       "      <td>110210800.0</td>\n",
       "      <td>362.811646</td>\n",
       "    </tr>\n",
       "    <tr>\n",
       "      <th>2021-01-05</th>\n",
       "      <td>372.500000</td>\n",
       "      <td>368.049988</td>\n",
       "      <td>368.100006</td>\n",
       "      <td>371.329987</td>\n",
       "      <td>66426200.0</td>\n",
       "      <td>365.310486</td>\n",
       "    </tr>\n",
       "    <tr>\n",
       "      <th>2021-01-06</th>\n",
       "      <td>376.980011</td>\n",
       "      <td>369.119995</td>\n",
       "      <td>369.709991</td>\n",
       "      <td>373.549988</td>\n",
       "      <td>107997700.0</td>\n",
       "      <td>367.494446</td>\n",
       "    </tr>\n",
       "    <tr>\n",
       "      <th>2021-01-07</th>\n",
       "      <td>379.899994</td>\n",
       "      <td>375.910004</td>\n",
       "      <td>376.100006</td>\n",
       "      <td>379.100006</td>\n",
       "      <td>68766800.0</td>\n",
       "      <td>372.954498</td>\n",
       "    </tr>\n",
       "    <tr>\n",
       "      <th>2021-01-08</th>\n",
       "      <td>381.489990</td>\n",
       "      <td>377.100006</td>\n",
       "      <td>380.589996</td>\n",
       "      <td>381.260010</td>\n",
       "      <td>71677200.0</td>\n",
       "      <td>375.079529</td>\n",
       "    </tr>\n",
       "  </tbody>\n",
       "</table>\n",
       "</div>"
      ],
      "text/plain": [
       "                  High         Low        Open       Close       Volume  \\\n",
       "Date                                                                      \n",
       "2021-01-04  375.450012  364.820007  375.309998  368.790009  110210800.0   \n",
       "2021-01-05  372.500000  368.049988  368.100006  371.329987   66426200.0   \n",
       "2021-01-06  376.980011  369.119995  369.709991  373.549988  107997700.0   \n",
       "2021-01-07  379.899994  375.910004  376.100006  379.100006   68766800.0   \n",
       "2021-01-08  381.489990  377.100006  380.589996  381.260010   71677200.0   \n",
       "\n",
       "             Adj Close  \n",
       "Date                    \n",
       "2021-01-04  362.811646  \n",
       "2021-01-05  365.310486  \n",
       "2021-01-06  367.494446  \n",
       "2021-01-07  372.954498  \n",
       "2021-01-08  375.079529  "
      ]
     },
     "execution_count": 4,
     "metadata": {},
     "output_type": "execute_result"
    }
   ],
   "source": [
    "# Use the Pandas Datareader to pull data from the web;\n",
    "# specify the 'ticket' and the website, as well as the start and end dates:\n",
    "df_spy = web.DataReader('SPY','yahoo',start,end)   \n",
    "\n",
    "df_spy.head()"
   ]
  },
  {
   "cell_type": "code",
   "execution_count": 5,
   "id": "fc381912",
   "metadata": {},
   "outputs": [
    {
     "data": {
      "text/html": [
       "<div>\n",
       "<style scoped>\n",
       "    .dataframe tbody tr th:only-of-type {\n",
       "        vertical-align: middle;\n",
       "    }\n",
       "\n",
       "    .dataframe tbody tr th {\n",
       "        vertical-align: top;\n",
       "    }\n",
       "\n",
       "    .dataframe thead th {\n",
       "        text-align: right;\n",
       "    }\n",
       "</style>\n",
       "<table border=\"1\" class=\"dataframe\">\n",
       "  <thead>\n",
       "    <tr style=\"text-align: right;\">\n",
       "      <th></th>\n",
       "      <th>High</th>\n",
       "      <th>Low</th>\n",
       "      <th>Open</th>\n",
       "      <th>Close</th>\n",
       "      <th>Volume</th>\n",
       "      <th>Adj Close</th>\n",
       "    </tr>\n",
       "    <tr>\n",
       "      <th>Date</th>\n",
       "      <th></th>\n",
       "      <th></th>\n",
       "      <th></th>\n",
       "      <th></th>\n",
       "      <th></th>\n",
       "      <th></th>\n",
       "    </tr>\n",
       "  </thead>\n",
       "  <tbody>\n",
       "    <tr>\n",
       "      <th>2021-01-04</th>\n",
       "      <td>133.610001</td>\n",
       "      <td>126.760002</td>\n",
       "      <td>133.520004</td>\n",
       "      <td>129.410004</td>\n",
       "      <td>143301900.0</td>\n",
       "      <td>128.264969</td>\n",
       "    </tr>\n",
       "    <tr>\n",
       "      <th>2021-01-05</th>\n",
       "      <td>131.740005</td>\n",
       "      <td>128.429993</td>\n",
       "      <td>128.889999</td>\n",
       "      <td>131.009995</td>\n",
       "      <td>97664900.0</td>\n",
       "      <td>129.850815</td>\n",
       "    </tr>\n",
       "    <tr>\n",
       "      <th>2021-01-06</th>\n",
       "      <td>131.050003</td>\n",
       "      <td>126.379997</td>\n",
       "      <td>127.720001</td>\n",
       "      <td>126.599998</td>\n",
       "      <td>155088000.0</td>\n",
       "      <td>125.479843</td>\n",
       "    </tr>\n",
       "    <tr>\n",
       "      <th>2021-01-07</th>\n",
       "      <td>131.630005</td>\n",
       "      <td>127.860001</td>\n",
       "      <td>128.360001</td>\n",
       "      <td>130.919998</td>\n",
       "      <td>109578200.0</td>\n",
       "      <td>129.761612</td>\n",
       "    </tr>\n",
       "    <tr>\n",
       "      <th>2021-01-08</th>\n",
       "      <td>132.630005</td>\n",
       "      <td>130.229996</td>\n",
       "      <td>132.429993</td>\n",
       "      <td>132.050003</td>\n",
       "      <td>105158200.0</td>\n",
       "      <td>130.881622</td>\n",
       "    </tr>\n",
       "  </tbody>\n",
       "</table>\n",
       "</div>"
      ],
      "text/plain": [
       "                  High         Low        Open       Close       Volume  \\\n",
       "Date                                                                      \n",
       "2021-01-04  133.610001  126.760002  133.520004  129.410004  143301900.0   \n",
       "2021-01-05  131.740005  128.429993  128.889999  131.009995   97664900.0   \n",
       "2021-01-06  131.050003  126.379997  127.720001  126.599998  155088000.0   \n",
       "2021-01-07  131.630005  127.860001  128.360001  130.919998  109578200.0   \n",
       "2021-01-08  132.630005  130.229996  132.429993  132.050003  105158200.0   \n",
       "\n",
       "             Adj Close  \n",
       "Date                    \n",
       "2021-01-04  128.264969  \n",
       "2021-01-05  129.850815  \n",
       "2021-01-06  125.479843  \n",
       "2021-01-07  129.761612  \n",
       "2021-01-08  130.881622  "
      ]
     },
     "execution_count": 5,
     "metadata": {},
     "output_type": "execute_result"
    }
   ],
   "source": [
    "# Pull Apple’s stock index.\n",
    "df_apple = web.DataReader('AAPL','yahoo',start,end)   \n",
    "\n",
    "# Print the results.\n",
    "df_apple.head()  "
   ]
  },
  {
   "cell_type": "code",
   "execution_count": 6,
   "id": "f45b0eb6",
   "metadata": {},
   "outputs": [
    {
     "data": {
      "text/plain": [
       "<matplotlib.legend.Legend at 0x2114dc7a5b0>"
      ]
     },
     "execution_count": 6,
     "metadata": {},
     "output_type": "execute_result"
    },
    {
     "data": {
      "image/png": "[encoded data removed]",
      "text/plain": [
       "<Figure size 720x576 with 1 Axes>"
      ]
     },
     "metadata": {
      "needs_background": "light"
     },
     "output_type": "display_data"
    }
   ],
   "source": [
    "# Closing stock price line plot for ‘Apple’:\n",
    "df_apple['Close'].plot(label = 'Apple', figsize=(10,8))\n",
    "\n",
    "# Closing stock price line plot for ‘SPY’:\n",
    "df_spy['Close'].plot(label = 'SPY')\n",
    "plt.legend()"
   ]
  },
  {
   "cell_type": "markdown",
   "id": "cef461af",
   "metadata": {},
   "source": [
    "A quick glance at the chart suggests that Apple’s stock performance is mimicking the market’s, judging by the similar shapes and trajectories, meaning we can statistically compare them. "
   ]
  },
  {
   "cell_type": "markdown",
   "id": "c7b8e6e7",
   "metadata": {},
   "source": [
    "Finding the cumulative returns (i.e. the total earnings on an investment over a period of time) of each and ploting them on a graph."
   ]
  },
  {
   "cell_type": "code",
   "execution_count": 7,
   "id": "9f8eac10",
   "metadata": {},
   "outputs": [
    {
     "data": {
      "text/plain": [
       "<matplotlib.legend.Legend at 0x2114da0ffd0>"
      ]
     },
     "execution_count": 7,
     "metadata": {},
     "output_type": "execute_result"
    },
    {
     "data": {
      "image/png": "[encoded data removed]",
      "text/plain": [
       "<Figure size 720x576 with 1 Axes>"
      ]
     },
     "metadata": {
      "needs_background": "light"
     },
     "output_type": "display_data"
    }
   ],
   "source": [
    "# [1a] Calculate the cumulative sum of closing prices for ‘Apple’ stocks; \n",
    "# stores sum in a new column named 'Cumu’:\n",
    "df_apple['Cumu'] = df_apple['Close']/df_apple['Close'].iloc[0]\n",
    "\n",
    "\n",
    "# [1b] Calculate the cumulative sum of closing prices for ‘SPY’ stocks; \n",
    "# stores sum in a new column named 'Cumu’:\n",
    "df_spy['Cumu'] = df_spy['Close']/df_spy['Close'].iloc[0] #TBA\n",
    "\n",
    "# [2] Plot line graphs for the calculated ‘Cumu’ columns for \n",
    "# both ‘Apple’ and ‘SPY’ stocks:\n",
    "df_apple['Cumu'].plot(label = 'Apple', figsize=(10,8))\n",
    "df_spy['Cumu'].plot(label = 'SPY')\n",
    "plt.legend()"
   ]
  },
  {
   "cell_type": "markdown",
   "id": "629461d2",
   "metadata": {},
   "source": [
    "To better understand the correlation, let’s visualise the daily returns using a scatterplot"
   ]
  },
  {
   "cell_type": "code",
   "execution_count": 8,
   "id": "5f2c4455",
   "metadata": {},
   "outputs": [
    {
     "data": {
      "text/plain": [
       "<matplotlib.collections.PathCollection at 0x2114db9c4f0>"
      ]
     },
     "execution_count": 8,
     "metadata": {},
     "output_type": "execute_result"
    },
    {
     "data": {
      "image/png": "[encoded data removed]",
      "text/plain": [
       "<Figure size 432x288 with 1 Axes>"
      ]
     },
     "metadata": {
      "needs_background": "light"
     },
     "output_type": "display_data"
    }
   ],
   "source": [
    "# [1] Calculate daily returns and \n",
    "# [2] percentage change using ‘pandas pct_change()’:\n",
    "df_apple['daily_ret'] = df_apple['Close'].pct_change(1) \n",
    "df_spy['daily_ret'] = df_spy['Close'].pct_change(1)\n",
    "\n",
    "# [3] Plot the daily returns on a scatterplot:\n",
    "plt.scatter(df_apple['daily_ret'],df_spy['daily_ret'])"
   ]
  },
  {
   "cell_type": "code",
   "execution_count": 10,
   "id": "314cccff",
   "metadata": {},
   "outputs": [
    {
     "name": "stdout",
     "output_type": "stream",
     "text": [
      "                 Apple         SPY\n",
      "Date                              \n",
      "2021-01-04  129.410004  368.790009\n",
      "2021-01-05  131.009995  371.329987\n",
      "2021-01-06  126.599998  373.549988\n",
      "2021-01-07  130.919998  379.100006\n",
      "2021-01-08  132.050003  381.260010\n"
     ]
    }
   ],
   "source": [
    "# [1] Join the DataFrames with the close value column.\n",
    "daily_prices = pd.concat([df_apple['Close'], df_spy['Close']], axis=1)  \n",
    "# [2] Set column labels.\n",
    "daily_prices.columns = ['Apple', 'SPY']  \n",
    "\n",
    "# [3] Print the new table.\n",
    "print(daily_prices.head()) "
   ]
  },
  {
   "cell_type": "code",
   "execution_count": 11,
   "id": "2b468ecb",
   "metadata": {},
   "outputs": [
    {
     "name": "stdout",
     "output_type": "stream",
     "text": [
      "               Apple       SPY\n",
      "Date                          \n",
      "2021-01-04       NaN       NaN\n",
      "2021-01-05  0.012364  0.006887\n",
      "2021-01-06 -0.033662  0.005979\n",
      "2021-01-07  0.034123  0.014857\n",
      "2021-01-08  0.008631  0.005698\n"
     ]
    }
   ],
   "source": [
    "# Get the percentage change. \n",
    "daily_returns = daily_prices.pct_change(1)  \n",
    "# Print the percentage change.\n",
    "print(daily_returns.head()) "
   ]
  },
  {
   "cell_type": "code",
   "execution_count": 12,
   "id": "5e863e34",
   "metadata": {},
   "outputs": [
    {
     "name": "stdout",
     "output_type": "stream",
     "text": [
      "               Apple       SPY\n",
      "Date                          \n",
      "2021-01-05  0.012364  0.006887\n",
      "2021-01-06 -0.033662  0.005979\n",
      "2021-01-07  0.034123  0.014857\n",
      "2021-01-08  0.008631  0.005698\n",
      "2021-01-11 -0.023249 -0.006741\n"
     ]
    }
   ],
   "source": [
    "# Get the percentage change.\n",
    "daily_returns = daily_prices.pct_change(1)  \n",
    "# Remove the first row (as we don’t have any data from the previous day, 2021-01-03)\n",
    "clean_daily_returns = daily_returns.dropna(axis=0)\n",
    "# Print the new DataFrame.  \n",
    "print(clean_daily_returns.head()) "
   ]
  },
  {
   "cell_type": "code",
   "execution_count": 15,
   "id": "4fe2966b",
   "metadata": {},
   "outputs": [
    {
     "name": "stdout",
     "output_type": "stream",
     "text": [
      "<class 'pandas.core.frame.DataFrame'>\n",
      "DatetimeIndex: 251 entries, 2021-01-05 to 2021-12-31\n",
      "Data columns (total 2 columns):\n",
      " #   Column  Non-Null Count  Dtype  \n",
      "---  ------  --------------  -----  \n",
      " 0   Apple   251 non-null    float64\n",
      " 1   SPY     251 non-null    float64\n",
      "dtypes: float64(2)\n",
      "memory usage: 5.9 KB\n"
     ]
    }
   ],
   "source": [
    "clean_daily_returns.info()"
   ]
  },
  {
   "cell_type": "code",
   "execution_count": 13,
   "id": "deacbead",
   "metadata": {},
   "outputs": [],
   "source": [
    "from statsmodels.formula.api import ols"
   ]
  },
  {
   "cell_type": "code",
   "execution_count": 16,
   "id": "fa6bceb4",
   "metadata": {},
   "outputs": [],
   "source": [
    "# Create formula and pass through OLS methods:\n",
    "f = 'SPY ~ Apple'\n",
    "test = ols(f, data = clean_daily_returns).fit()"
   ]
  },
  {
   "cell_type": "code",
   "execution_count": 17,
   "id": "a1576d48",
   "metadata": {},
   "outputs": [
    {
     "data": {
      "text/html": [
       "<table class=\"simpletable\">\n",
       "<caption>OLS Regression Results</caption>\n",
       "<tr>\n",
       "  <th>Dep. Variable:</th>           <td>SPY</td>       <th>  R-squared:         </th> <td>   0.462</td>\n",
       "</tr>\n",
       "<tr>\n",
       "  <th>Model:</th>                   <td>OLS</td>       <th>  Adj. R-squared:    </th> <td>   0.460</td>\n",
       "</tr>\n",
       "<tr>\n",
       "  <th>Method:</th>             <td>Least Squares</td>  <th>  F-statistic:       </th> <td>   213.8</td>\n",
       "</tr>\n",
       "<tr>\n",
       "  <th>Date:</th>             <td>Fri, 20 May 2022</td> <th>  Prob (F-statistic):</th> <td>2.27e-35</td>\n",
       "</tr>\n",
       "<tr>\n",
       "  <th>Time:</th>                 <td>10:23:57</td>     <th>  Log-Likelihood:    </th> <td>  927.22</td>\n",
       "</tr>\n",
       "<tr>\n",
       "  <th>No. Observations:</th>      <td>   251</td>      <th>  AIC:               </th> <td>  -1850.</td>\n",
       "</tr>\n",
       "<tr>\n",
       "  <th>Df Residuals:</th>          <td>   249</td>      <th>  BIC:               </th> <td>  -1843.</td>\n",
       "</tr>\n",
       "<tr>\n",
       "  <th>Df Model:</th>              <td>     1</td>      <th>                     </th>     <td> </td>   \n",
       "</tr>\n",
       "<tr>\n",
       "  <th>Covariance Type:</th>      <td>nonrobust</td>    <th>                     </th>     <td> </td>   \n",
       "</tr>\n",
       "</table>\n",
       "<table class=\"simpletable\">\n",
       "<tr>\n",
       "      <td></td>         <th>coef</th>     <th>std err</th>      <th>t</th>      <th>P>|t|</th>  <th>[0.025</th>    <th>0.975]</th>  \n",
       "</tr>\n",
       "<tr>\n",
       "  <th>Intercept</th> <td>    0.0006</td> <td>    0.000</td> <td>    1.440</td> <td> 0.151</td> <td>   -0.000</td> <td>    0.001</td>\n",
       "</tr>\n",
       "<tr>\n",
       "  <th>Apple</th>     <td>    0.3545</td> <td>    0.024</td> <td>   14.621</td> <td> 0.000</td> <td>    0.307</td> <td>    0.402</td>\n",
       "</tr>\n",
       "</table>\n",
       "<table class=\"simpletable\">\n",
       "<tr>\n",
       "  <th>Omnibus:</th>       <td>35.524</td> <th>  Durbin-Watson:     </th> <td>   1.959</td>\n",
       "</tr>\n",
       "<tr>\n",
       "  <th>Prob(Omnibus):</th> <td> 0.000</td> <th>  Jarque-Bera (JB):  </th> <td> 124.676</td>\n",
       "</tr>\n",
       "<tr>\n",
       "  <th>Skew:</th>          <td>-0.518</td> <th>  Prob(JB):          </th> <td>8.45e-28</td>\n",
       "</tr>\n",
       "<tr>\n",
       "  <th>Kurtosis:</th>      <td> 6.294</td> <th>  Cond. No.          </th> <td>    63.6</td>\n",
       "</tr>\n",
       "</table><br/><br/>Notes:<br/>[1] Standard Errors assume that the covariance matrix of the errors is correctly specified."
      ],
      "text/plain": [
       "<class 'statsmodels.iolib.summary.Summary'>\n",
       "\"\"\"\n",
       "                            OLS Regression Results                            \n",
       "==============================================================================\n",
       "Dep. Variable:                    SPY   R-squared:                       0.462\n",
       "Model:                            OLS   Adj. R-squared:                  0.460\n",
       "Method:                 Least Squares   F-statistic:                     213.8\n",
       "Date:                Fri, 20 May 2022   Prob (F-statistic):           2.27e-35\n",
       "Time:                        10:23:57   Log-Likelihood:                 927.22\n",
       "No. Observations:                 251   AIC:                            -1850.\n",
       "Df Residuals:                     249   BIC:                            -1843.\n",
       "Df Model:                           1                                         \n",
       "Covariance Type:            nonrobust                                         \n",
       "==============================================================================\n",
       "                 coef    std err          t      P>|t|      [0.025      0.975]\n",
       "------------------------------------------------------------------------------\n",
       "Intercept      0.0006      0.000      1.440      0.151      -0.000       0.001\n",
       "Apple          0.3545      0.024     14.621      0.000       0.307       0.402\n",
       "==============================================================================\n",
       "Omnibus:                       35.524   Durbin-Watson:                   1.959\n",
       "Prob(Omnibus):                  0.000   Jarque-Bera (JB):              124.676\n",
       "Skew:                          -0.518   Prob(JB):                     8.45e-28\n",
       "Kurtosis:                       6.294   Cond. No.                         63.6\n",
       "==============================================================================\n",
       "\n",
       "Notes:\n",
       "[1] Standard Errors assume that the covariance matrix of the errors is correctly specified.\n",
       "\"\"\""
      ]
     },
     "execution_count": 17,
     "metadata": {},
     "output_type": "execute_result"
    }
   ],
   "source": [
    "# Print the regression table.\n",
    "test.summary() "
   ]
  },
  {
   "cell_type": "code",
   "execution_count": 19,
   "id": "8acaf5bf",
   "metadata": {},
   "outputs": [
    {
     "name": "stdout",
     "output_type": "stream",
     "text": [
      "Parameters:  Intercept    0.000551\n",
      "Apple        0.354489\n",
      "dtype: float64\n",
      "Standard errors:  Intercept    0.000383\n",
      "Apple        0.024245\n",
      "dtype: float64\n",
      "Predicted values:  [ 4.93403323e-03 -1.13814086e-02  1.26475293e-02  3.61091368e-03\n",
      " -7.69022252e-03  5.65348729e-05  6.30340441e-03 -4.81118764e-03\n",
      " -4.31609746e-03  2.47507634e-03  1.21983536e-02  1.35461895e-02\n",
      "  6.24918782e-03  1.03648379e-02  1.14652012e-03 -2.17257786e-03\n",
      " -1.18506466e-02 -1.27139586e-02  6.40741925e-03  2.79751986e-03\n",
      " -2.20612076e-03  9.68207316e-03 -1.07428949e-03  9.40058478e-04\n",
      " -1.77908643e-03 -1.06469365e-03 -1.29511219e-04  1.18079763e-03\n",
      " -5.15744678e-03 -5.70337917e-03 -2.51028898e-03  9.88464835e-04\n",
      " -1.00121846e-02  1.57352288e-04 -8.85210874e-04 -1.17788227e-02\n",
      "  1.34231325e-03  1.96408848e-02 -6.85533558e-03 -8.11835233e-03\n",
      " -5.05391508e-03  4.35786146e-03 -1.42215688e-02  1.49610833e-02\n",
      " -2.69825822e-03  6.40125579e-03 -2.15191136e-03  9.22086902e-03\n",
      "  5.06847111e-03 -1.73542676e-03 -1.14677623e-02 -1.03696107e-03\n",
      "  1.05959204e-02 -1.89074555e-03 -6.53624935e-03  2.02715719e-03\n",
      "  2.37380015e-03  1.07765319e-03 -3.79993586e-03  7.20343697e-03\n",
      "  3.01798928e-03  8.90909933e-03  1.42406813e-03  5.29797515e-03\n",
      "  7.36938427e-03  7.73019622e-03 -4.13973888e-03  9.16761636e-03\n",
      " -5.77750300e-03  7.18296206e-03 -3.44868958e-04  2.34796110e-03\n",
      " -3.99686144e-03  1.58984512e-03 -3.59110835e-03  6.94568854e-03\n",
      "  1.60686572e-03 -3.17107054e-04 -1.58535394e-03  2.85835195e-04\n",
      " -4.81334931e-03  3.46346814e-03 -1.19925414e-02  1.24442166e-03\n",
      "  5.08956835e-03  1.83541238e-03 -8.59619234e-03 -2.07563698e-03\n",
      " -8.28919486e-03  6.90357029e-03  7.58596257e-03 -2.73082070e-03\n",
      " -3.43525876e-03  9.69474485e-05  7.99977236e-03 -4.68353943e-03\n",
      "  5.27095742e-03 -6.57537261e-06  4.11546050e-04 -3.83621819e-03\n",
      " -1.34458149e-03 -3.87557731e-04  2.77604923e-03 -3.75728012e-03\n",
      "  7.29437356e-03  5.79391737e-04  2.91635303e-03  1.64204648e-03\n",
      " -2.29292827e-03  4.03679881e-03  9.26382407e-03 -1.73088026e-03\n",
      "  1.94576105e-03  5.01808510e-03 -3.02617232e-03  5.55090671e-03\n",
      "  5.05265343e-03 -1.89603291e-04 -2.17653951e-04 -2.45922602e-04\n",
      "  4.99864482e-03  4.62793615e-03  2.18938246e-03  1.35358312e-03\n",
      "  7.49794462e-03  5.76876201e-03  6.91615944e-03 -2.70996700e-03\n",
      "  5.17907158e-03 -9.38941945e-04  3.34788525e-03  9.09458068e-03\n",
      " -1.04117590e-03 -4.43853903e-03 -8.98963666e-03  9.75872300e-03\n",
      " -1.26790850e-03  3.96448497e-03  4.80121663e-03  1.57729759e-03\n",
      " -4.73077646e-03 -3.77212304e-03  2.16499427e-03  1.08671176e-03\n",
      " -2.75078394e-04  5.03348532e-03 -4.35076761e-04  8.16582621e-04\n",
      " -1.66643319e-03  4.29935697e-04 -6.37739236e-04  1.18422955e-03\n",
      "  7.91514359e-03  1.05122740e-03  5.35379992e-03 -1.63029798e-03\n",
      " -8.48860927e-03  1.37470974e-03  4.15170689e-03  4.18726596e-03\n",
      "  3.38094322e-04 -2.43402923e-03 -1.40808453e-03  3.09808063e-03\n",
      "  1.13337692e-02 -2.43524289e-03  2.13885693e-03  3.20100166e-03\n",
      "  2.05087581e-03  6.04201247e-03 -3.02330264e-03 -1.82557678e-03\n",
      " -1.11830193e-02  1.93139892e-03 -2.83842115e-03  2.72909766e-03\n",
      " -1.96598237e-05 -5.95292750e-03 -7.02102802e-03  1.76639490e-03\n",
      "  6.53231813e-03  2.93310965e-03  7.68503546e-04 -3.18862348e-03\n",
      " -7.88606069e-03  2.84936754e-03 -2.74969602e-03  3.43221682e-03\n",
      " -8.17119886e-03  5.57022612e-03  2.78703521e-03  3.77156704e-03\n",
      " -4.13602629e-04  3.27975162e-04 -2.67569419e-03 -9.51776849e-04\n",
      "  7.72098104e-03  3.21433680e-03  4.73638572e-03  5.89696147e-03\n",
      "  1.74270630e-03  1.07372468e-03 -1.32222648e-03  4.32015820e-04\n",
      "  2.17296587e-03 -5.64565805e-04  9.41047467e-03 -5.88474102e-03\n",
      " -1.43655229e-03  3.07376555e-03  4.02475774e-03 -6.88977963e-04\n",
      "  1.30264220e-03 -1.41710553e-03  1.42306406e-03 -6.24190767e-03\n",
      "  4.31395260e-04  5.63352995e-03  5.74848285e-04  2.91448628e-03\n",
      "  6.39678505e-03  1.06669190e-02  6.56904576e-03  1.58897361e-03\n",
      "  1.40981884e-03  1.71521116e-03 -1.06784236e-02  8.30519483e-03\n",
      "  1.17451412e-02 -5.85364965e-04 -1.62172440e-03 -3.60496499e-03\n",
      "  8.17372595e-03  1.31165521e-02  8.62757904e-03 -5.01638609e-04\n",
      "  1.04816259e-02 -6.77755934e-03 -2.29292107e-03  1.06574058e-02\n",
      " -1.33673712e-02 -1.75357856e-03 -2.32793221e-03  7.31732965e-03\n",
      "  5.98156024e-03  1.84291843e-03  8.69554888e-03 -1.49319955e-03\n",
      "  7.29196374e-04 -1.78069215e-03 -7.01995784e-04]\n"
     ]
    }
   ],
   "source": [
    "# Extract the estimated parameters.\n",
    "print(\"Parameters: \", test.params)  \n",
    "# Extract the standard errors.\n",
    "print(\"Standard errors: \", test.bse)  \n",
    "# Extract the predicted values.\n",
    "print(\"Predicted values: \", test.predict())  "
   ]
  },
  {
   "cell_type": "code",
   "execution_count": 18,
   "id": "a3744f65",
   "metadata": {},
   "outputs": [],
   "source": [
    "# Reshape ‘SPY’ data to 2D.\n",
    "X = clean_daily_returns['SPY'].values.reshape(-1, 1)  \n",
    "# Reshape ‘Apple’ data to 2D.\n",
    "y = clean_daily_returns['Apple'].values.reshape(-1, 1)  "
   ]
  },
  {
   "cell_type": "code",
   "execution_count": 20,
   "id": "45dfb4a6",
   "metadata": {},
   "outputs": [
    {
     "data": {
      "text/plain": [
       "LinearRegression()"
      ]
     },
     "execution_count": 20,
     "metadata": {},
     "output_type": "execute_result"
    }
   ],
   "source": [
    "# Run the linear regression test.\n",
    "lr = LinearRegression()  \n",
    "# Fit the model.\n",
    "lr.fit(X, y) "
   ]
  },
  {
   "cell_type": "markdown",
   "id": "98aebc73",
   "metadata": {},
   "source": [
    "Now, let’s check our coefficient/slope (beta_i) using the coef_ attribute."
   ]
  },
  {
   "cell_type": "code",
   "execution_count": 21,
   "id": "8d6cbbf4",
   "metadata": {},
   "outputs": [
    {
     "data": {
      "text/plain": [
       "array([[1.30313819]])"
      ]
     },
     "execution_count": 21,
     "metadata": {},
     "output_type": "execute_result"
    }
   ],
   "source": [
    "\n",
    "# Check/Call the coefficient (beta value).\n",
    "lr.coef_  "
   ]
  },
  {
   "cell_type": "markdown",
   "id": "9de78375",
   "metadata": {},
   "source": [
    "Let’s check our intercept (i.e. LaTeX: c, where the function crosses the y-axis, also known as intercept/constant)"
   ]
  },
  {
   "cell_type": "code",
   "execution_count": 23,
   "id": "c05f2de6",
   "metadata": {},
   "outputs": [
    {
     "data": {
      "text/plain": [
       "array([2.68456838e-05])"
      ]
     },
     "execution_count": 23,
     "metadata": {},
     "output_type": "execute_result"
    }
   ],
   "source": [
    "# Check/call the intercept (c).\n",
    "lr.intercept_ "
   ]
  },
  {
   "cell_type": "markdown",
   "id": "39485f4c",
   "metadata": {},
   "source": [
    "Our beta_i (slope or coefficient) is 1.30. This means that Apple’s stock is more volatile than the market. \n",
    "\n",
    "Alpha, the standard performance ratio, and how it’s used to evaluate stocks. In our regression analysis, we actually found alpha – it’s the intercept, in this instance 0.00055123! This is really low (in fact, close to zero), which means that the investment is barely outperforming the benchmark. However, the CAPM's prediction is that the stock's excess return should be zero. So, to confirm, Apple stock is doing a little better than predicted."
   ]
  },
  {
   "cell_type": "markdown",
   "id": "8356100e",
   "metadata": {},
   "source": [
    "all the inputs we need, plug them into the equation to solve the equation:\n",
    "\n",
    "ER_i=1.72+0.35(10.5-1.72)\n",
    "\n",
    "ER_{Apple}=4.79\n",
    "\n",
    "So the expected return, or prediction, of the Apple stock based on the CAPM formula is 4.79%"
   ]
  },
  {
   "cell_type": "markdown",
   "id": "cbd097a5",
   "metadata": {},
   "source": [
    "#### Drawing the line of best fit"
   ]
  },
  {
   "cell_type": "code",
   "execution_count": 24,
   "id": "c9670594",
   "metadata": {},
   "outputs": [],
   "source": [
    "# Set the the x coefficient the constant (intercept) y = beta*x + c\n",
    "y_pred = lr.coef_ * X + lr.intercept_"
   ]
  },
  {
   "cell_type": "code",
   "execution_count": 25,
   "id": "ea6087f1",
   "metadata": {},
   "outputs": [
    {
     "data": {
      "text/plain": [
       "[<matplotlib.lines.Line2D at 0x2114f77ca30>]"
      ]
     },
     "execution_count": 25,
     "metadata": {},
     "output_type": "execute_result"
    },
    {
     "data": {
      "image/png": "[encoded data removed]",
      "text/plain": [
       "<Figure size 432x288 with 1 Axes>"
      ]
     },
     "metadata": {
      "needs_background": "light"
     },
     "output_type": "display_data"
    }
   ],
   "source": [
    "# [1] Draw the scatterplot using Matplotlib. \n",
    "plt.scatter(X,y) \n",
    " # [2] Plot X and predicted y as a line;[2a] Set the line colour to red.\n",
    "plt.plot(X, y_pred, color='red') "
   ]
  },
  {
   "cell_type": "code",
   "execution_count": null,
   "id": "18b3e2d3",
   "metadata": {},
   "outputs": [],
   "source": []
  }
 ],
 "metadata": {
  "kernelspec": {
   "display_name": "Python 3 (ipykernel)",
   "language": "python",
   "name": "python3"
  },
  "language_info": {
   "codemirror_mode": {
    "name": "ipython",
    "version": 3
   },
   "file_extension": ".py",
   "mimetype": "text/x-python",
   "name": "python",
   "nbconvert_exporter": "python",
   "pygments_lexer": "ipython3",
   "version": "3.9.7"
  }
 },
 "nbformat": 4,
 "nbformat_minor": 5
}
